{
  "nbformat": 4,
  "nbformat_minor": 0,
  "metadata": {
    "colab": {
      "name": "Untitled0.ipynb",
      "provenance": [],
      "authorship_tag": "ABX9TyP2Z56h27yROfpt8pLay73i",
      "include_colab_link": true
    },
    "kernelspec": {
      "name": "python3",
      "display_name": "Python 3"
    }
  },
  "cells": [
    {
      "source": [
        "# Section 1.1 What is Statistics?"
      ],
      "cell_type": "markdown",
      "metadata": {
        "id": "Xmwgg6FUnbaR"
      }
    },
    {
      "source": [
        "## Discussion\n",
        "\n",
        "The subject of statistics is multifacted. The following definition of statistics is found in the [_International Encyclopedia of Statistical Science_](https://www.springer.com/gp/book/9783642048975), edited by [Miodrag Lovric](https://scholar.google.co.nz/citations?user=XNkxNvAAAAAJ&hl=en). [Professor David Hand of Imperial College London](https://www.imperial.ac.uk/people/d.j.hand) - the president of the [Royal Statistical Society](https://rss.org.uk/) - presents the definition in his article \"Statistics: An Overview.\"\n",
        "\n",
        "> **Statistics** is both the science of uncertainty and the technology of extracting information from data.\n",
        "\n",
        "The Statistical procedures you will learn in this book should supplement your built-in system of inference - that is, the results from statistical procedures and good sense should dovetatil. Of course, statistical methods themselves have no power to work miracles. These methods can help us make some decisions, but not all conceivable decisions. Remember, even a properly applied statistical procedure is no more accurate than the data, or facts, on which it is based. **Finally, statistical results should be interpreted by one who understands not only the medthods, but also the subject matter to which they have been applied.**"
      ],
      "cell_type": "markdown",
      "metadata": {}
    },
    {
      "source": [
        "## Concepts\n",
        "\n",
        "### Vocabulary\n",
        "\n",
        "* **INDIVIDUALS** are people or objects included in the study.\n",
        "* A **VARIABLE** is a characteristic of the individual to be measured or observed.\n",
        "* A **QUANTITATIVE VARIABLE** has a value or numerical measurement for which operations such as addition or averaging make sense.\n",
        "* A **QUALITATIVE VARIABLE** variable describes an individual by placing the individual into a category or group, such as male or female.\n",
        "* In **POPULATION DATA**, the data are from _every_ individual of interest.\n",
        "* In **SAMPLE DATA**, the data are from _only some_ of the individuals of interest.\n",
        "* A **POPULATION PARAMETER** is a numerical measure that describes an aspect of a population.\n",
        "* A **SAMPLE STATISTIC** is a numerical measure that describes an aspects of a sample.\n",
        "\n",
        "### Levels of measurement\n",
        "\n",
        "* The **NOMINAL LEVEL of measurement** applies to data that consist of names, labels, or categories. There are no implied criteria by which the data can be ordered from smallest to largest.\n",
        "* The **ORDINAL LEVEL of measurement** applied to data that can be arranged in order. However, differences between data values either cannot be determined or are meaningless.\n",
        "* The **INTERVAL LEVEL of measurement** applied to data that can be arranged in order. In addition, differences between data values are meaningful.\n",
        "* The **RATIO LEVEL of measurement** applied to data that can be arranged in order. In addition, both differences between data values and raiots of data values are meaningful. Data at the ratio level have a _true zero_."
      ],
      "cell_type": "markdown",
      "metadata": {}
    },
    {
      "source": [
        "### Selected Problems\n",
        "\n",
        "1) **Statistical Literacy** _What is the difference between an individual and a variable?_  \n",
        "An individual is singular object of interest in a study, while a variable is a characteristic of an individual.\n",
        "\n",
        "3) **Statistical Literacy** _What is the difference between a parameter and a statistic?_  \n",
        "A parameter is a characteristic of a population, while a statistic is a measure of a sample.\n",
        "\n",
        "5) **Critical Thinking** Numbers are often assigned to dat taht are categorical in nature.  \n",
        "(a) _Consider these number assignments for category items describing electronic ways of expression personal opinions:\n",
        "1 = Twitter; 2 = email; 3 = text message; 4 = Facebook; 5 = blog\n",
        "Are these numerical assignments at the ordinal data level or higher? Explain._  \n",
        "These data are at the ordinal level and not higher because they can be ordered, but the differences between the order values is meaningless.  \n",
        "(b) _Consider these number assignments for category items describing usefulness of customer service:\n",
        "1 = not helpful; 2 = somewhat helpful; 3 = very helpful; 4 = extremely helpful\n",
        "Are these numerical assignments at the ordinal data level higher? Explain. What about the interval level or higher? Explain._  \n",
        "These data are at the ordinal level, but not the interval level or higher because they can be ordered while the differences between the order values do not have any meaning.\n",
        "\n",
        "7) **Marketing: Fast Food** A national survey asked 1261 U.S. adult fast-food customers which meal (breakfast, lunch, dinner, snack) they ordered.  \n",
        "(a) _Identify the variable._ type of meal ordered  \n",
        "(b) _Is the variable quantitative or qualitative?_ qualitative  \n",
        "(c) _What is the implied population?_ U.S. adult fast food customers\n",
        "\n",
        "9) **Ecology: Wetlands** Government agencies carefully monitor water quality and its effect on wetlands (ref: [_Environmental Protection Agnecy Wetland Report_ EPA 832-R-93-005 (pdf)](https://permanent.fdlp.gov/websites/epagov/www.epa.gov/OWOW/wetlands/pdf/ConstructedWetlands-Complete.pdf)). Of particular concern is the concentration of nitrogen in water draining from fertilized lands. Too much nitrogen can kill fish and wildlife. Twenty-eight samples of water were taken at random from a lake. The nitrogen concentration (milligrams of nitrogen per liter of water) was determined for each sample.  \n",
        "(a) _Identify the variable._ nitrogen concentration  \n",
        "(b) _Is the variable quantitative or qualitative?_ quantitative  \n",
        "(c) _What is the implied population?_ the lake\n",
        "\n",
        "11) **Student Life: Levels of Measurement** Categorize these measurements associated with student life according to level: nominal, ordinal, interval, or ratio.  \n",
        "(a) _Length of time to complete an exam_ ratio  \n",
        "(b) _Time of first class_ interval  \n",
        "(c) _Major field of study_ nominal  \n",
        "(d) _Course evaluation scale: poor, acceptable, good_ ordinal  \n",
        "(e) _Score on last exam (based on 100 possible points)_ interval  \n",
        "(f) _Age of student_ ratio\n",
        "\n",
        "13) **Fishing: Levels of Measurement** Categorize these measurements associated with fishing according to level: nominal, ordinal, interval, or ratio.  \n",
        "(a) _Species of fish caught: perch, bass, pike, trout_ nominal  \n",
        "(b) _Cost of rod and reel_ ratio  \n",
        "(c) _Time to return home_ ratio\n",
        "(d) _Guidebook rating of fishing area: poor, fair, good_ ordinal  \n",
        "(e) _Number of fish caught_ ratio  \n",
        "(f) _Temperature of water_ interval\n",
        "\n",
        "15) **Critical Thinking** You are interested in the weights of backpacks students carry to class and decide to conduct a study using the backpacks carried by 30 students.  \n",
        "(a) _Give some instructions for weighing the backpacks. Include unit of measure, accuracy of measure, and type of scale._ \n",
        "\n",
        "1. Place a bathroom scale on level, hard ground. \n",
        "1. Make sure the scale reads zero when starting and between measurements.\n",
        "1. Place the full backpack on the scale such that it is fully supported by the scale and nothing else.\n",
        "1. Record the measurement, in pounds, of the backpack.\n",
        "1. Ensure that the measurement is given in increments of whole pounds (i.e. round to the nearest whole number).\n",
        "\n",
        "(b) _Do you think each student asked allow you to weigh his or her backpack?_ yes  \n",
        "(c) _Do you think telling students ahead of time that you are going to weigh their backpacks will make a difference in the weights?_ Yes, some may stuff or lighten their normal load in order to have the heaviest, or lightest, in the group.\n"
      ],
      "cell_type": "markdown",
      "metadata": {}
    },
    {
      "source": [
        "## References\n",
        "\n",
        "1. _Chance favors the prepared mind._  - Louis Pastuer\n",
        "1. [Prof. Sara Lewis @ Tufts on the declining global population of firefiles](https://ase.tufts.edu/biology/labs/lewis/)\n",
        "1. [_The First Measured Century_, book & documentary](http://www.pbs.org/fmc/)\n",
        "\n",
        "\n",
        "[<img src=\"https://www.firefly.org/wp-content/themes/firefly/firefly-logo.png\" width=\"250px\">](https://www.firefly.org)"
      ],
      "cell_type": "markdown",
      "metadata": {}
    },
    {
      "cell_type": "code",
      "execution_count": null,
      "metadata": {},
      "outputs": [],
      "source": []
    }
  ]
}