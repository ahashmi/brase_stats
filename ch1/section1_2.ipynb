{
  "nbformat": 4,
  "nbformat_minor": 0,
  "metadata": {
    "colab": {
      "name": "Untitled0.ipynb",
      "provenance": [],
      "authorship_tag": "ABX9TyP2Z56h27yROfpt8pLay73i",
      "include_colab_link": true
    },
    "kernelspec": {
      "name": "python3",
      "display_name": "Python 3",
      "language": "python"
    }
  },
  "cells": [
    {
      "source": [
        "# Section 1.2 Random Samples"
      ],
      "cell_type": "markdown",
      "metadata": {
        "id": "Xmwgg6FUnbaR"
      }
    },
    {
      "source": [
        "## Discussion\n",
        "\n",
        "Drawing conclusions from samples is dependent on the representativeness of the sample.\n",
        "\n",
        "An integuing no-tech method of generating random numbers is presented, using a **random number table**. The text provides a random number table(1) with the following instructions:\n",
        "\n",
        "* Use a random number table to pick a sample of 30 from a population of 500.\n",
        "* Table 1 in the Appendix has 50 rows and 10 blocks of 5 digits each; it can be thought of as a solid mass of digits broken up for convenience.\n",
        "* Read the digits by beginning anywhere in the table. For example:  \n",
        "  \n",
        "99281  59640  15221  96079  09961  05371  \n",
        "  \n",
        "* Since the highest number assigned to a member of the population is 500, group the digits into blocks of 3:\n",
        "    \n",
        "992  815  964  015  221  960  790  996  105  371  \n",
        "  \n",
        "* Use the first 30 numbers encountered in this grouping, skipping those greater than 500 or repeats.\n",
        "* Thus, the first several members selected for the random sample are those assigned the following numbers:  \n",
        "  \n",
        "015  221  105  371  ...\n",
        "\n",
        "Alternatively, one can use a random number generating function from a computer or calculator. :)"
      ],
      "cell_type": "markdown",
      "metadata": {}
    },
    {
      "cell_type": "code",
      "execution_count": 5,
      "metadata": {},
      "outputs": [
        {
          "output_type": "stream",
          "name": "stdout",
          "text": [
            "random number between 0 and 1: 0.7810687243393326\nrandom number between 1 and 100: 89\n"
          ]
        }
      ],
      "source": [
        "# generating random numbers from python\n",
        "from random import *\n",
        "# random number between 0 to 1\n",
        "print(f'random number between 0 and 1: {random()}')\n",
        "# random integer between 1 and 100\n",
        "print(f'random number between 1 and 100: {randint(1, 100)}')"
      ]
    },
    {
      "source": [
        "> **Note**: in general, software based random number generators perform _sampling with replacement_. This means that although a number is selected for the sample, it is not removed from the population. It is possible for the same number to show up more than once in the sample. If _sampling without replacement_ is needed, simply generate more numbers than required and remove the duplicates.\n",
        "\n",
        "Random samples are key components in methods of _inferential statisits_. In order to draw conclusions about a population, the methods presented in the text _require_ simple random samples."
      ],
      "cell_type": "markdown",
      "metadata": {}
    },
    {
      "source": [
        "## Concepts\n",
        "\n",
        "### Vocabulary\n",
        "\n",
        "* A **SIMPLE RANDOM SAMPLE** of _n_ measurements is a subset of the population selected such that every sample of size _n_ from the population has an equal chance of being selected.\n",
        "* A **SIMULATION** is a numerical facsimile or representation of a real-world phenomenon.\n",
        "* A **SAMPLING FRAME** is a list of individuals from which a sample is actually selected.\n",
        "* **UNDERCOVERAGE**: results from omitting population members from the sample frame.\n",
        "* A **SAMPLING ERROR** is the difference between measurements from a sample and corresponding measurements from the respective population.\n",
        "* A **NONSAMPLING ERROR** is the result of poor sample design, sloppy data collection, faulty measuring instruments, bias in questionaires, and so on.\n",
        "\n",
        "### Sampling Techniques\n",
        "\n",
        "* **RANDOM SAMPLING**: Use a simple random sample from the entire population\n",
        "* **STRATIFIED SAMPLING**: Divide the population into distinct subgroups called _strata_ based on a specific characteristic. Draw random samples from each stratum.\n",
        "* **SYSTEMATIC SAMPLING**: Assign sequential numbers to all members of the population. From a random starting point, include every _kth_ member in the sample.\n",
        "* **CLUSTER SAMPLING**: Divide population into pre-existing segments or clusters (often geographic). Make a random selection of clusters and include every member of each cluster in the sample.\n",
        "* **MULTISTAGE SAMPLING**: Use a variety of sampling methods to create successively smaller groups at each stage. The final sample consists of clusters.\n",
        "* **CONVENIENCE SAMPLING**: Create a sample by using data from  population members that are readily avaiable. (similar to observational studies?)"
      ],
      "cell_type": "markdown",
      "metadata": {}
    },
    {
      "source": [
        "### Selected Problems\n",
        "\n",
        "15) **Sampling Methods: Benefits Package** An important part of employee compensation is a benefits package, which might include health insurance, life insurance, child care, vacation days, a retirement plan, parental leave, bonuses, etc. Suppose you want to conduct a survey of benefits packages availabel in private businesses in Hawaii. You want a sample size of 100. Some sampling techniques are described below. Categorize each technique.  \n",
        "\n",
        "(a) Assign each business in the Island Business Directory a number, and then use a random number table to select the businesses to be included in the sample.  \n",
        "- _simple random sample_  \n",
        "\n",
        "(b) Use the postal ZIP codes to divide the state into regions. Pick a random sample of 10 ZIP-code areas and then include all the businesses in each selected ZIP-code area.  \n",
        "- _cluster sample_  \n",
        "\n",
        "(c) Send a team of five research assistants to Bishop Street in downtown Honolulu. Let each assistant select a block or building and interview an employee from each business found. Each researcher can have the rest of the day off after getting responses from 20 different businesses.  \n",
        "- _convenience sample_  \n",
        "\n",
        "(d) Use the Island Business Directory. Number all the businesses. Select a starting place at random, and then use every 50th business listed until you have 100 businesses.  \n",
        "- _systematic sample_  \n",
        "\n",
        "(e) Group the businesses according to type: medical, shipping, retail, manufacturing, financial, construction, restaurant, hotel, tourism, and other. Then select a random sample of 10 businesses from each business type.  \n",
        "- _stratified sample_    \n"
      ],
      "cell_type": "markdown",
      "metadata": {}
    },
    {
      "source": [
        "## References\n",
        "\n",
        "1. Adapted from [Rand Corporation, _A Million Random Digits with 100,000 Normal Deviates_, 2001, 628 pgs](https://www.rand.org/pubs/monograph_reports/MR1418.html)"
      ],
      "cell_type": "markdown",
      "metadata": {}
    },
    {
      "cell_type": "code",
      "execution_count": null,
      "metadata": {},
      "outputs": [],
      "source": []
    }
  ]
}