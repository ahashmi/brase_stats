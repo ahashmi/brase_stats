{
  "nbformat": 4,
  "nbformat_minor": 0,
  "metadata": {
    "colab": {
      "name": "Untitled0.ipynb",
      "provenance": [],
      "authorship_tag": "ABX9TyP2Z56h27yROfpt8pLay73i",
      "include_colab_link": true
    },
    "kernelspec": {
      "name": "python3",
      "display_name": "Python 3"
    }
  },
  "cells": [
    {
      "source": [
        "# Section 1.2 What is Statistics?"
      ],
      "cell_type": "markdown",
      "metadata": {
        "id": "Xmwgg6FUnbaR"
      }
    },
    {
      "source": [
        "## Discussion"
      ],
      "cell_type": "markdown",
      "metadata": {}
    },
    {
      "source": [
        "## Concepts\n",
        "\n",
        "### Vocabulary\n"
      ],
      "cell_type": "markdown",
      "metadata": {}
    },
    {
      "source": [
        "### Selected Problems\n",
        "\n",
        "1) "
      ],
      "cell_type": "markdown",
      "metadata": {}
    },
    {
      "source": [
        "## References\n",
        "\n",
        "1. "
      ],
      "cell_type": "markdown",
      "metadata": {}
    },
    {
      "cell_type": "code",
      "execution_count": null,
      "metadata": {},
      "outputs": [],
      "source": []
    }
  ]
}