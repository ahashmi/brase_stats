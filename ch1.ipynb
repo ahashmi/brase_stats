{
  "nbformat": 4,
  "nbformat_minor": 0,
  "metadata": {
    "colab": {
      "name": "Untitled0.ipynb",
      "provenance": [],
      "authorship_tag": "ABX9TyP2Z56h27yROfpt8pLay73i",
      "include_colab_link": true
    },
    "kernelspec": {
      "name": "python3",
      "display_name": "Python 3"
    }
  },
  "cells": [
    {
      "source": [
        "# Chapter 1: Getting Started"
      ],
      "cell_type": "markdown",
      "metadata": {
        "id": "Xmwgg6FUnbaR"
      }
    },
    {
      "source": [
        "## References\n",
        "\n",
        "1. _Chance favors the prepared mind._  - Louis Pastuer\n",
        "1. [Prof. Sara Lewis @ Tufts on the declining global population of firefiles](https://ase.tufts.edu/biology/labs/lewis/)"
      ],
      "cell_type": "markdown",
      "metadata": {}
    },
    {
      "source": [
        "## Discussion\n",
        "\n",
        "The subject of statistics is multifacted. The following definition of statistics is found in the _International Encyclopedia of Statistical Science_, edited by Miodrag Lovric. Professor David Hand of Imperial College London - the president of the Royal Statistical Society - presents the definition in his article \"Statistics: An Overview.\"\n",
        "\n",
        "> **Statistics** is both the science of uncertainty and the technology of extracting information from data.\n",
        "\n",
        "The Statistical procedures you will learn in this book should supplement your built-in system of inference - that is, the results from statistical procedures and good sense should dovetatil. Of course, statistical methods themselves have no power to work miracles. These methods can help us make some decisions, but not all conceivable decisions. Remember, even a properly applied statistical procedure is no more accurate than the data, or facts, on which it is based. **Finally, statistical results should be interpreted by one who understands not only the medthods, but also the subject matter to which they have been applied.**\n",
        "\n",
        "![Firefly.org](https://www.firefly.org/wp-content/themes/firefly/firefly-logo.png)"
      ],
      "cell_type": "markdown",
      "metadata": {}
    },
    {
      "cell_type": "code",
      "execution_count": null,
      "metadata": {},
      "outputs": [],
      "source": []
    }
  ]
}