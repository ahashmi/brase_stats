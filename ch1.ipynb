{
  "nbformat": 4,
  "nbformat_minor": 0,
  "metadata": {
    "colab": {
      "name": "Untitled0.ipynb",
      "provenance": [],
      "authorship_tag": "ABX9TyP2Z56h27yROfpt8pLay73i",
      "include_colab_link": true
    },
    "kernelspec": {
      "name": "python3",
      "display_name": "Python 3"
    }
  },
  "cells": [
    {
      "source": [
        "# Chapter 1: Getting Started"
      ],
      "cell_type": "markdown",
      "metadata": {
        "id": "Xmwgg6FUnbaR"
      }
    },
    {
      "source": [
        "_Chance favors the prepared mind._  \n",
        "- Louis Pastuer"
      ],
      "cell_type": "markdown",
      "metadata": {}
    },
    {
      "cell_type": "code",
      "execution_count": null,
      "metadata": {},
      "outputs": [],
      "source": []
    }
  ]
}